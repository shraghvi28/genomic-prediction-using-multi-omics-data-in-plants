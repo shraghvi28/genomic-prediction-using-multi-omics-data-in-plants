{
  "nbformat": 4,
  "nbformat_minor": 0,
  "metadata": {
    "colab": {
      "provenance": [],
      "include_colab_link": true
    },
    "kernelspec": {
      "name": "python3",
      "display_name": "Python 3"
    },
    "language_info": {
      "name": "python"
    }
  },
  "cells": [
    {
      "cell_type": "markdown",
      "metadata": {
        "id": "view-in-github",
        "colab_type": "text"
      },
      "source": [
        "<a href=\"https://colab.research.google.com/github/shraghvi28/genomic-prediction-using-multi-omics-data-in-plants/blob/branch1/Untitled1.ipynb\" target=\"_parent\"><img src=\"https://colab.research.google.com/assets/colab-badge.svg\" alt=\"Open In Colab\"/></a>"
      ]
    },
    {
      "cell_type": "code",
      "execution_count": null,
      "metadata": {
        "colab": {
          "base_uri": "https://localhost:8080/"
        },
        "id": "kDz5B0pJ8ELP",
        "outputId": "fb8b018c-2543-408f-9cfb-ff314c748f4c"
      },
      "outputs": [
        {
          "output_type": "stream",
          "name": "stdout",
          "text": [
            "Using device: cpu\n"
          ]
        }
      ],
      "source": [
        "import re\n",
        "import unicodedata\n",
        "import torch\n",
        "import torch.nn as nn\n",
        "import torch.nn.functional as F\n",
        "from torch.utils.data import Dataset, DataLoader\n",
        "import matplotlib.pyplot as plt\n",
        "import random\n",
        "from collections import defaultdict\n",
        "\n",
        "# Device configuration\n",
        "device = torch.device('cuda' if torch.cuda.is_available() else 'cpu')\n",
        "print(\"Using device:\", device)"
      ]
    },
    {
      "cell_type": "code",
      "source": [
        "from google.colab import drive\n",
        "drive.mount('/content/drive')"
      ],
      "metadata": {
        "id": "AwBTRFCKaTC1"
      },
      "execution_count": null,
      "outputs": []
    },
    {
      "cell_type": "code",
      "source": [
        "# Load data (replace 'tel.txt' with your file)\n",
        "with open('tel.txt', encoding='utf-8') as f:\n",
        "    lines = f.read().strip().split('\\n')\n",
        "\n",
        "# Split into pairs and limit dataset\n",
        "pairs = [[s for s in l.split('\\t')] for l in lines][:50000]\n",
        "\n",
        "# Text normalization\n",
        "def normalize(s):\n",
        "    s = ''.join(c for c in unicodedata.normalize('NFD', s)\n",
        "              if unicodedata.category(c) != 'Mn')\n",
        "    s = re.sub(r\"([?.!,<])\", r\" \\1 \", s)\n",
        "    s = re.sub(r\"[' ]+\", \" \", s)\n",
        "    return s.lower().strip()\n",
        "\n",
        "for pair in pairs:\n",
        "    pair[0] = normalize(pair[0])\n",
        "    pair[1] = normalize(pair[1])\n",
        "\n",
        "print(\"Sample pairs:\", random.sample(pairs, 3))"
      ],
      "metadata": {
        "colab": {
          "base_uri": "https://localhost:8080/"
        },
        "id": "KEUF-wLz97LK",
        "outputId": "a595a275-0622-42c5-bca0-df6144917d72"
      },
      "execution_count": null,
      "outputs": [
        {
          "output_type": "stream",
          "name": "stdout",
          "text": [
            "Sample pairs: [['she asked me how many languages i spoke .', 'నను ఎనన భషలు మటలడుతనన తను అడగంద', 'CC-BY 2.0 (France) Attribution: tatoeba.org #314190 (CK) & #7204349 (bharath)'], ['can you tell me where the nearest bus stop is ?', 'దగగరల వునన బస సటప ఎకకడ కంచం చపతవ', 'CC-BY 2.0 (France) Attribution: tatoeba.org #27269 (CK) & #7204372 (bharath)'], ['more coffee , please .', 'దయచస ఇంకంచం కఫ ఇవవర .', 'CC-BY 2.0 (France) Attribution: tatoeba.org #701897 (Eldad) & #4639482 (bharath)']]\n"
          ]
        }
      ]
    },
    {
      "cell_type": "code",
      "source": [
        "class Lang:\n",
        "    def __init__(self):\n",
        "        self.word2index = {\"<pad>\":0, \"<sos>\":1, \"<eos>\":2}\n",
        "        self.index2word = {0:\"<pad>\", 1:\"<sos>\", 2:\"<eos>\"}\n",
        "        self.n_words = 3\n",
        "\n",
        "    def add_sentence(self, sentence):\n",
        "        for word in sentence.split():\n",
        "            if word not in self.word2index:\n",
        "                self.word2index[word] = self.n_words\n",
        "                self.index2word[self.n_words] = word\n",
        "                self.n_words += 1\n",
        "\n",
        "# Build vocabularies\n",
        "eng = Lang()\n",
        "tel = Lang()\n",
        "for pair in pairs:\n",
        "    tel.add_sentence(pair[0])\n",
        "    eng.add_sentence(pair[1])"
      ],
      "metadata": {
        "id": "aTO93eUf97Nb"
      },
      "execution_count": null,
      "outputs": []
    },
    {
      "cell_type": "code",
      "source": [
        "class Encoder(nn.Module):\n",
        "    def __init__(self, input_dim, emb_dim, hid_dim):\n",
        "        super().__init__()\n",
        "        self.embedding = nn.Embedding(input_dim, emb_dim)\n",
        "        self.rnn = nn.GRU(emb_dim, hid_dim, batch_first=True)\n",
        "        self.dropout = nn.Dropout(0.5)\n",
        "\n",
        "    def forward(self, src):\n",
        "        embedded = self.dropout(self.embedding(src))\n",
        "        outputs, hidden = self.rnn(embedded)\n",
        "        return outputs, hidden\n"
      ],
      "metadata": {
        "id": "c4Zn-zzW97Pq"
      },
      "execution_count": null,
      "outputs": []
    },
    {
      "cell_type": "code",
      "source": [
        "class Decoder(nn.Module):\n",
        "    def __init__(self, output_dim, emb_dim, hid_dim):\n",
        "        super().__init__()\n",
        "        self.embedding = nn.Embedding(output_dim, emb_dim)\n",
        "        self.rnn = nn.GRU(emb_dim + hid_dim, hid_dim, batch_first=True)\n",
        "        self.fc_out = nn.Linear(hid_dim, output_dim)\n",
        "        self.dropout = nn.Dropout(0.5)\n",
        "        self.attention = Attention(hid_dim)\n",
        "\n",
        "    def forward(self, x, hidden, encoder_outputs):\n",
        "        x = x.unsqueeze(1)\n",
        "        embedded = self.dropout(self.embedding(x))\n",
        "        a = self.attention(hidden.squeeze(0), encoder_outputs).unsqueeze(1)\n",
        "        weighted = torch.bmm(a, encoder_outputs)\n",
        "        rnn_input = torch.cat((embedded, weighted), dim=2)\n",
        "        output, hidden = self.rnn(rnn_input, hidden)\n",
        "        return self.fc_out(output.squeeze(1)), hidden"
      ],
      "metadata": {
        "id": "K38QjuxsBFGH"
      },
      "execution_count": null,
      "outputs": []
    },
    {
      "cell_type": "code",
      "source": [
        "class Attention(nn.Module):\n",
        "    def __init__(self, hid_dim):\n",
        "        super().__init__()\n",
        "        self.attn = nn.Linear(hid_dim * 2, hid_dim)\n",
        "        self.v = nn.Linear(hid_dim, 1, bias=False)\n",
        "\n",
        "    def forward(self, hidden, encoder_outputs):\n",
        "        src_len = encoder_outputs.shape[1]\n",
        "        hidden = hidden.unsqueeze(1).repeat(1, src_len, 1)\n",
        "        energy = torch.tanh(self.attn(torch.cat((hidden, encoder_outputs), dim=2)))\n",
        "        return F.softmax(self.v(energy).squeeze(2), dim=1)"
      ],
      "metadata": {
        "id": "_yY-tBgr97R1"
      },
      "execution_count": null,
      "outputs": []
    },
    {
      "cell_type": "code",
      "source": [
        "class Seq2Seq(nn.Module):\n",
        "    def __init__(self, encoder, decoder):\n",
        "        super().__init__()\n",
        "        self.encoder = encoder\n",
        "        self.decoder = decoder\n",
        "\n",
        "    def forward(self, src, trg):\n",
        "        batch_size = src.shape[0]\n",
        "        trg_len = trg.shape[1]\n",
        "        trg_vocab_size = self.decoder.fc_out.out_features\n",
        "\n",
        "        outputs = torch.zeros(batch_size, trg_len, trg_vocab_size).to(device)\n",
        "        encoder_outputs, hidden = self.encoder(src)\n",
        "\n",
        "        input = trg[:, 0]\n",
        "        for t in range(1, trg_len):\n",
        "            output, hidden = self.decoder(input, hidden, encoder_outputs)\n",
        "            outputs[:, t] = output\n",
        "            input = trg[:, t]  # Teacher forcing\n",
        "\n",
        "        return outputs"
      ],
      "metadata": {
        "id": "BW-acosE97VM"
      },
      "execution_count": null,
      "outputs": []
    },
    {
      "cell_type": "code",
      "source": [
        "# Hyperparameters\n",
        "INPUT_DIM = tel.n_words\n",
        "OUTPUT_DIM = eng.n_words\n",
        "EMB_DIM = 256\n",
        "HID_DIM = 512\n",
        "EPOCHS = 25\n",
        "BATCH_SIZE = 64\n",
        "\n",
        "# Initialize models\n",
        "enc = Encoder(INPUT_DIM, EMB_DIM, HID_DIM).to(device)\n",
        "dec = Decoder(OUTPUT_DIM, EMB_DIM, HID_DIM).to(device)\n",
        "model = Seq2Seq(enc, dec).to(device)\n",
        "\n",
        "# Optimizer and loss\n",
        "optimizer = torch.optim.Adam(model.parameters())\n",
        "criterion = nn.CrossEntropyLoss(ignore_index=0)"
      ],
      "metadata": {
        "id": "Aqd_TdwTBAB7"
      },
      "execution_count": null,
      "outputs": []
    },
    {
      "cell_type": "code",
      "source": [
        "# Convert sentences to tensors\n",
        "def tensorize(lang, sentences):\n",
        "    tensors = []\n",
        "    for s in sentences:\n",
        "        tokens = [lang.word2index.get(word, 0) for word in s.split()]\n",
        "        tensors.append(torch.LongTensor([1] + tokens + [2]))  # Add <sos> and <eos>\n",
        "    return torch.nn.utils.rnn.pad_sequence(tensors, padding_value=0)\n",
        "\n",
        "# Create dataset\n",
        "src_tensors = tensorize(tel, [p[0] for p in pairs])\n",
        "trg_tensors = tensorize(eng, [p[1] for p in pairs])\n",
        "dataset = torch.utils.data.TensorDataset(src_tensors, trg_tensors)\n",
        "train_loader = DataLoader(dataset, batch_size=BATCH_SIZE, shuffle=True)"
      ],
      "metadata": {
        "colab": {
          "base_uri": "https://localhost:8080/",
          "height": 315
        },
        "id": "R7Dt-0nkBANT",
        "outputId": "b0ade832-fba3-4996-996d-820d5dfe01a5"
      },
      "execution_count": null,
      "outputs": [
        {
          "output_type": "error",
          "ename": "AssertionError",
          "evalue": "Size mismatch between tensors",
          "traceback": [
            "\u001b[0;31m---------------------------------------------------------------------------\u001b[0m",
            "\u001b[0;31mAssertionError\u001b[0m                            Traceback (most recent call last)",
            "\u001b[0;32m<ipython-input-21-4cfce8028449>\u001b[0m in \u001b[0;36m<cell line: 0>\u001b[0;34m()\u001b[0m\n\u001b[1;32m     10\u001b[0m \u001b[0msrc_tensors\u001b[0m \u001b[0;34m=\u001b[0m \u001b[0mtensorize\u001b[0m\u001b[0;34m(\u001b[0m\u001b[0mtel\u001b[0m\u001b[0;34m,\u001b[0m \u001b[0;34m[\u001b[0m\u001b[0mp\u001b[0m\u001b[0;34m[\u001b[0m\u001b[0;36m0\u001b[0m\u001b[0;34m]\u001b[0m \u001b[0;32mfor\u001b[0m \u001b[0mp\u001b[0m \u001b[0;32min\u001b[0m \u001b[0mpairs\u001b[0m\u001b[0;34m]\u001b[0m\u001b[0;34m)\u001b[0m\u001b[0;34m\u001b[0m\u001b[0;34m\u001b[0m\u001b[0m\n\u001b[1;32m     11\u001b[0m \u001b[0mtrg_tensors\u001b[0m \u001b[0;34m=\u001b[0m \u001b[0mtensorize\u001b[0m\u001b[0;34m(\u001b[0m\u001b[0meng\u001b[0m\u001b[0;34m,\u001b[0m \u001b[0;34m[\u001b[0m\u001b[0mp\u001b[0m\u001b[0;34m[\u001b[0m\u001b[0;36m1\u001b[0m\u001b[0;34m]\u001b[0m \u001b[0;32mfor\u001b[0m \u001b[0mp\u001b[0m \u001b[0;32min\u001b[0m \u001b[0mpairs\u001b[0m\u001b[0;34m]\u001b[0m\u001b[0;34m)\u001b[0m\u001b[0;34m\u001b[0m\u001b[0;34m\u001b[0m\u001b[0m\n\u001b[0;32m---> 12\u001b[0;31m \u001b[0mdataset\u001b[0m \u001b[0;34m=\u001b[0m \u001b[0mtorch\u001b[0m\u001b[0;34m.\u001b[0m\u001b[0mutils\u001b[0m\u001b[0;34m.\u001b[0m\u001b[0mdata\u001b[0m\u001b[0;34m.\u001b[0m\u001b[0mTensorDataset\u001b[0m\u001b[0;34m(\u001b[0m\u001b[0msrc_tensors\u001b[0m\u001b[0;34m,\u001b[0m \u001b[0mtrg_tensors\u001b[0m\u001b[0;34m)\u001b[0m\u001b[0;34m\u001b[0m\u001b[0;34m\u001b[0m\u001b[0m\n\u001b[0m\u001b[1;32m     13\u001b[0m \u001b[0mtrain_loader\u001b[0m \u001b[0;34m=\u001b[0m \u001b[0mDataLoader\u001b[0m\u001b[0;34m(\u001b[0m\u001b[0mdataset\u001b[0m\u001b[0;34m,\u001b[0m \u001b[0mbatch_size\u001b[0m\u001b[0;34m=\u001b[0m\u001b[0mBATCH_SIZE\u001b[0m\u001b[0;34m,\u001b[0m \u001b[0mshuffle\u001b[0m\u001b[0;34m=\u001b[0m\u001b[0;32mTrue\u001b[0m\u001b[0;34m)\u001b[0m\u001b[0;34m\u001b[0m\u001b[0;34m\u001b[0m\u001b[0m\n",
            "\u001b[0;32m/usr/local/lib/python3.11/dist-packages/torch/utils/data/dataset.py\u001b[0m in \u001b[0;36m__init__\u001b[0;34m(self, *tensors)\u001b[0m\n\u001b[1;32m    203\u001b[0m \u001b[0;34m\u001b[0m\u001b[0m\n\u001b[1;32m    204\u001b[0m     \u001b[0;32mdef\u001b[0m \u001b[0m__init__\u001b[0m\u001b[0;34m(\u001b[0m\u001b[0mself\u001b[0m\u001b[0;34m,\u001b[0m \u001b[0;34m*\u001b[0m\u001b[0mtensors\u001b[0m\u001b[0;34m:\u001b[0m \u001b[0mTensor\u001b[0m\u001b[0;34m)\u001b[0m \u001b[0;34m->\u001b[0m \u001b[0;32mNone\u001b[0m\u001b[0;34m:\u001b[0m\u001b[0;34m\u001b[0m\u001b[0;34m\u001b[0m\u001b[0m\n\u001b[0;32m--> 205\u001b[0;31m         assert all(\n\u001b[0m\u001b[1;32m    206\u001b[0m             \u001b[0mtensors\u001b[0m\u001b[0;34m[\u001b[0m\u001b[0;36m0\u001b[0m\u001b[0;34m]\u001b[0m\u001b[0;34m.\u001b[0m\u001b[0msize\u001b[0m\u001b[0;34m(\u001b[0m\u001b[0;36m0\u001b[0m\u001b[0;34m)\u001b[0m \u001b[0;34m==\u001b[0m \u001b[0mtensor\u001b[0m\u001b[0;34m.\u001b[0m\u001b[0msize\u001b[0m\u001b[0;34m(\u001b[0m\u001b[0;36m0\u001b[0m\u001b[0;34m)\u001b[0m \u001b[0;32mfor\u001b[0m \u001b[0mtensor\u001b[0m \u001b[0;32min\u001b[0m \u001b[0mtensors\u001b[0m\u001b[0;34m\u001b[0m\u001b[0;34m\u001b[0m\u001b[0m\n\u001b[1;32m    207\u001b[0m         ), \"Size mismatch between tensors\"\n",
            "\u001b[0;31mAssertionError\u001b[0m: Size mismatch between tensors"
          ]
        }
      ]
    }
  ]
}